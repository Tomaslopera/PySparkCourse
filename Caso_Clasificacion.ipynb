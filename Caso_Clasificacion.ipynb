{
 "cells": [
  {
   "cell_type": "markdown",
   "metadata": {},
   "source": [
    "# Árboles de Decisión - Bosques Aleatorios: Universidades\n",
    "\n",
    "* Un árbol de decisión único\n",
    "* Un bosque aleatorio\n",
    "* Un clasificador de árboles impulsado por gradiente\n",
    "\n",
    "Conjunto de datos de universidades para intentar clasificarlas como privadas o públicas"
   ]
  },
  {
   "cell_type": "code",
   "execution_count": 1,
   "metadata": {},
   "outputs": [],
   "source": [
    "import warnings\n",
    "warnings.filterwarnings(\"ignore\")"
   ]
  },
  {
   "cell_type": "markdown",
   "metadata": {},
   "source": [
    "## Creación Spark"
   ]
  },
  {
   "cell_type": "code",
   "execution_count": 2,
   "metadata": {},
   "outputs": [
    {
     "name": "stdout",
     "output_type": "stream",
     "text": [
      "JAVA_HOME fijado a: /Library/Java/JavaVirtualMachines/adoptopenjdk-8.jdk/Contents/Home\n",
      "which java (kernel): /Library/Java/JavaVirtualMachines/adoptopenjdk-8.jdk/Contents/Home/bin/java\n",
      "java -version (kernel):\n",
      "openjdk version \"1.8.0_292\"\n",
      "OpenJDK Runtime Environment (AdoptOpenJDK)(build 1.8.0_292-b10)\n",
      "OpenJDK 64-Bit Server VM (AdoptOpenJDK)(build 25.292-b10, mixed mode)\n",
      "\n"
     ]
    }
   ],
   "source": [
    "import os, subprocess\n",
    "\n",
    "java8_home = \"/Library/Java/JavaVirtualMachines/adoptopenjdk-8.jdk/Contents/Home\"\n",
    "\n",
    "os.environ[\"JAVA_HOME\"] = java8_home\n",
    "os.environ[\"PATH\"] = os.path.join(java8_home, \"bin\") + os.pathsep + os.environ.get(\"PATH\",\"\")\n",
    "\n",
    "os.environ[\"HADOOP_USER_NAME\"] = os.environ.get(\"USER\", \"tomas\")\n",
    "\n",
    "print(\"JAVA_HOME fijado a:\", os.environ[\"JAVA_HOME\"])\n",
    "try:\n",
    "    print(\"which java (kernel):\", subprocess.check_output([\"which\",\"java\"]).decode().strip())\n",
    "    print(\"java -version (kernel):\")\n",
    "    print(subprocess.check_output([\"java\",\"-version\"], stderr=subprocess.STDOUT).decode())\n",
    "except Exception as e:\n",
    "    print(\"Error llamando a java desde kernel:\", e)"
   ]
  },
  {
   "cell_type": "code",
   "execution_count": 3,
   "metadata": {
    "collapsed": true
   },
   "outputs": [
    {
     "name": "stderr",
     "output_type": "stream",
     "text": [
      "25/09/13 22:13:30 WARN Utils: Your hostname, MacBook-Air-de-Tomas-3.local resolves to a loopback address: 127.0.0.1; using 192.168.1.4 instead (on interface en0)\n",
      "25/09/13 22:13:30 WARN Utils: Set SPARK_LOCAL_IP if you need to bind to another address\n",
      "25/09/13 22:13:31 WARN NativeCodeLoader: Unable to load native-hadoop library for your platform... using builtin-java classes where applicable\n",
      "Using Spark's default log4j profile: org/apache/spark/log4j-defaults.properties\n",
      "Setting default log level to \"WARN\".\n",
      "To adjust logging level use sc.setLogLevel(newLevel). For SparkR, use setLogLevel(newLevel).\n",
      "25/09/13 22:13:33 WARN Utils: Service 'SparkUI' could not bind on port 4040. Attempting port 4041.\n",
      "25/09/13 22:13:33 WARN Utils: Service 'SparkUI' could not bind on port 4041. Attempting port 4042.\n",
      "25/09/13 22:13:33 WARN Utils: Service 'SparkUI' could not bind on port 4042. Attempting port 4043.\n",
      "25/09/13 22:13:33 WARN Utils: Service 'SparkUI' could not bind on port 4043. Attempting port 4044.\n"
     ]
    }
   ],
   "source": [
    "from pyspark.sql import SparkSession\n",
    "spark = SparkSession.builder.appName('treecode').getOrCreate()"
   ]
  },
  {
   "cell_type": "markdown",
   "metadata": {},
   "source": [
    "## Importación de Datos"
   ]
  },
  {
   "cell_type": "code",
   "execution_count": 4,
   "metadata": {
    "collapsed": true
   },
   "outputs": [
    {
     "name": "stderr",
     "output_type": "stream",
     "text": [
      "                                                                                \r"
     ]
    }
   ],
   "source": [
    "data = spark.read.csv('../PySparkCourse/MLData/College.csv',inferSchema=True,header=True)"
   ]
  },
  {
   "cell_type": "code",
   "execution_count": 5,
   "metadata": {
    "collapsed": false
   },
   "outputs": [
    {
     "name": "stdout",
     "output_type": "stream",
     "text": [
      "root\n",
      " |-- School: string (nullable = true)\n",
      " |-- Private: string (nullable = true)\n",
      " |-- Apps: integer (nullable = true)\n",
      " |-- Accept: integer (nullable = true)\n",
      " |-- Enroll: integer (nullable = true)\n",
      " |-- Top10perc: integer (nullable = true)\n",
      " |-- Top25perc: integer (nullable = true)\n",
      " |-- F_Undergrad: integer (nullable = true)\n",
      " |-- P_Undergrad: integer (nullable = true)\n",
      " |-- Outstate: integer (nullable = true)\n",
      " |-- Room_Board: integer (nullable = true)\n",
      " |-- Books: integer (nullable = true)\n",
      " |-- Personal: integer (nullable = true)\n",
      " |-- PhD: integer (nullable = true)\n",
      " |-- Terminal: integer (nullable = true)\n",
      " |-- S_F_Ratio: double (nullable = true)\n",
      " |-- perc_alumni: integer (nullable = true)\n",
      " |-- Expend: integer (nullable = true)\n",
      " |-- Grad_Rate: integer (nullable = true)\n",
      "\n"
     ]
    }
   ],
   "source": [
    "data.printSchema()"
   ]
  },
  {
   "cell_type": "code",
   "execution_count": 6,
   "metadata": {
    "collapsed": false
   },
   "outputs": [
    {
     "data": {
      "application/vnd.microsoft.datawrangler.viewer.v0+json": {
       "columns": [
        {
         "name": "index",
         "rawType": "int64",
         "type": "integer"
        },
        {
         "name": "0",
         "rawType": "object",
         "type": "string"
        },
        {
         "name": "1",
         "rawType": "object",
         "type": "string"
        },
        {
         "name": "2",
         "rawType": "int64",
         "type": "integer"
        },
        {
         "name": "3",
         "rawType": "int64",
         "type": "integer"
        },
        {
         "name": "4",
         "rawType": "int64",
         "type": "integer"
        },
        {
         "name": "5",
         "rawType": "int64",
         "type": "integer"
        },
        {
         "name": "6",
         "rawType": "int64",
         "type": "integer"
        },
        {
         "name": "7",
         "rawType": "int64",
         "type": "integer"
        },
        {
         "name": "8",
         "rawType": "int64",
         "type": "integer"
        },
        {
         "name": "9",
         "rawType": "int64",
         "type": "integer"
        },
        {
         "name": "10",
         "rawType": "int64",
         "type": "integer"
        },
        {
         "name": "11",
         "rawType": "int64",
         "type": "integer"
        },
        {
         "name": "12",
         "rawType": "int64",
         "type": "integer"
        },
        {
         "name": "13",
         "rawType": "int64",
         "type": "integer"
        },
        {
         "name": "14",
         "rawType": "int64",
         "type": "integer"
        },
        {
         "name": "15",
         "rawType": "float64",
         "type": "float"
        },
        {
         "name": "16",
         "rawType": "int64",
         "type": "integer"
        },
        {
         "name": "17",
         "rawType": "int64",
         "type": "integer"
        },
        {
         "name": "18",
         "rawType": "int64",
         "type": "integer"
        }
       ],
       "ref": "2adadaa5-5c20-4b7c-b3a4-45886eac1cbb",
       "rows": [
        [
         "0",
         "Abilene Christian University",
         "Yes",
         "1660",
         "1232",
         "721",
         "23",
         "52",
         "2885",
         "537",
         "7440",
         "3300",
         "450",
         "2200",
         "70",
         "78",
         "18.1",
         "12",
         "7041",
         "60"
        ],
        [
         "1",
         "Adelphi University",
         "Yes",
         "2186",
         "1924",
         "512",
         "16",
         "29",
         "2683",
         "1227",
         "12280",
         "6450",
         "750",
         "1500",
         "29",
         "30",
         "12.2",
         "16",
         "10527",
         "56"
        ],
        [
         "2",
         "Adrian College",
         "Yes",
         "1428",
         "1097",
         "336",
         "22",
         "50",
         "1036",
         "99",
         "11250",
         "3750",
         "400",
         "1165",
         "53",
         "66",
         "12.9",
         "30",
         "8735",
         "54"
        ],
        [
         "3",
         "Agnes Scott College",
         "Yes",
         "417",
         "349",
         "137",
         "60",
         "89",
         "510",
         "63",
         "12960",
         "5450",
         "450",
         "875",
         "92",
         "97",
         "7.7",
         "37",
         "19016",
         "59"
        ],
        [
         "4",
         "Alaska Pacific University",
         "Yes",
         "193",
         "146",
         "55",
         "16",
         "44",
         "249",
         "869",
         "7560",
         "4120",
         "800",
         "1500",
         "76",
         "72",
         "11.9",
         "2",
         "10922",
         "15"
        ],
        [
         "5",
         "Albertson College",
         "Yes",
         "587",
         "479",
         "158",
         "38",
         "62",
         "678",
         "41",
         "13500",
         "3335",
         "500",
         "675",
         "67",
         "73",
         "9.4",
         "11",
         "9727",
         "55"
        ],
        [
         "6",
         "Albertus Magnus College",
         "Yes",
         "353",
         "340",
         "103",
         "17",
         "45",
         "416",
         "230",
         "13290",
         "5720",
         "500",
         "1500",
         "90",
         "93",
         "11.5",
         "26",
         "8861",
         "63"
        ],
        [
         "7",
         "Albion College",
         "Yes",
         "1899",
         "1720",
         "489",
         "37",
         "68",
         "1594",
         "32",
         "13868",
         "4826",
         "450",
         "850",
         "89",
         "100",
         "13.7",
         "37",
         "11487",
         "73"
        ],
        [
         "8",
         "Albright College",
         "Yes",
         "1038",
         "839",
         "227",
         "30",
         "63",
         "973",
         "306",
         "15595",
         "4400",
         "300",
         "500",
         "79",
         "84",
         "11.3",
         "23",
         "11644",
         "80"
        ],
        [
         "9",
         "Alderson-Broaddus College",
         "Yes",
         "582",
         "498",
         "172",
         "21",
         "44",
         "799",
         "78",
         "10468",
         "3380",
         "660",
         "1800",
         "40",
         "41",
         "11.5",
         "15",
         "8991",
         "52"
        ]
       ],
       "shape": {
        "columns": 19,
        "rows": 10
       }
      },
      "text/plain": [
       "[Row(School='Abilene Christian University', Private='Yes', Apps=1660, Accept=1232, Enroll=721, Top10perc=23, Top25perc=52, F_Undergrad=2885, P_Undergrad=537, Outstate=7440, Room_Board=3300, Books=450, Personal=2200, PhD=70, Terminal=78, S_F_Ratio=18.1, perc_alumni=12, Expend=7041, Grad_Rate=60),\n",
       " Row(School='Adelphi University', Private='Yes', Apps=2186, Accept=1924, Enroll=512, Top10perc=16, Top25perc=29, F_Undergrad=2683, P_Undergrad=1227, Outstate=12280, Room_Board=6450, Books=750, Personal=1500, PhD=29, Terminal=30, S_F_Ratio=12.2, perc_alumni=16, Expend=10527, Grad_Rate=56),\n",
       " Row(School='Adrian College', Private='Yes', Apps=1428, Accept=1097, Enroll=336, Top10perc=22, Top25perc=50, F_Undergrad=1036, P_Undergrad=99, Outstate=11250, Room_Board=3750, Books=400, Personal=1165, PhD=53, Terminal=66, S_F_Ratio=12.9, perc_alumni=30, Expend=8735, Grad_Rate=54),\n",
       " Row(School='Agnes Scott College', Private='Yes', Apps=417, Accept=349, Enroll=137, Top10perc=60, Top25perc=89, F_Undergrad=510, P_Undergrad=63, Outstate=12960, Room_Board=5450, Books=450, Personal=875, PhD=92, Terminal=97, S_F_Ratio=7.7, perc_alumni=37, Expend=19016, Grad_Rate=59),\n",
       " Row(School='Alaska Pacific University', Private='Yes', Apps=193, Accept=146, Enroll=55, Top10perc=16, Top25perc=44, F_Undergrad=249, P_Undergrad=869, Outstate=7560, Room_Board=4120, Books=800, Personal=1500, PhD=76, Terminal=72, S_F_Ratio=11.9, perc_alumni=2, Expend=10922, Grad_Rate=15),\n",
       " Row(School='Albertson College', Private='Yes', Apps=587, Accept=479, Enroll=158, Top10perc=38, Top25perc=62, F_Undergrad=678, P_Undergrad=41, Outstate=13500, Room_Board=3335, Books=500, Personal=675, PhD=67, Terminal=73, S_F_Ratio=9.4, perc_alumni=11, Expend=9727, Grad_Rate=55),\n",
       " Row(School='Albertus Magnus College', Private='Yes', Apps=353, Accept=340, Enroll=103, Top10perc=17, Top25perc=45, F_Undergrad=416, P_Undergrad=230, Outstate=13290, Room_Board=5720, Books=500, Personal=1500, PhD=90, Terminal=93, S_F_Ratio=11.5, perc_alumni=26, Expend=8861, Grad_Rate=63),\n",
       " Row(School='Albion College', Private='Yes', Apps=1899, Accept=1720, Enroll=489, Top10perc=37, Top25perc=68, F_Undergrad=1594, P_Undergrad=32, Outstate=13868, Room_Board=4826, Books=450, Personal=850, PhD=89, Terminal=100, S_F_Ratio=13.7, perc_alumni=37, Expend=11487, Grad_Rate=73),\n",
       " Row(School='Albright College', Private='Yes', Apps=1038, Accept=839, Enroll=227, Top10perc=30, Top25perc=63, F_Undergrad=973, P_Undergrad=306, Outstate=15595, Room_Board=4400, Books=300, Personal=500, PhD=79, Terminal=84, S_F_Ratio=11.3, perc_alumni=23, Expend=11644, Grad_Rate=80),\n",
       " Row(School='Alderson-Broaddus College', Private='Yes', Apps=582, Accept=498, Enroll=172, Top10perc=21, Top25perc=44, F_Undergrad=799, P_Undergrad=78, Outstate=10468, Room_Board=3380, Books=660, Personal=1800, PhD=40, Terminal=41, S_F_Ratio=11.5, perc_alumni=15, Expend=8991, Grad_Rate=52)]"
      ]
     },
     "execution_count": 6,
     "metadata": {},
     "output_type": "execute_result"
    }
   ],
   "source": [
    "data.head(10)"
   ]
  },
  {
   "cell_type": "markdown",
   "metadata": {},
   "source": [
    "## Transformación de Datos"
   ]
  },
  {
   "cell_type": "code",
   "execution_count": 7,
   "metadata": {
    "collapsed": true
   },
   "outputs": [],
   "source": [
    "from pyspark.ml.linalg import Vectors\n",
    "from pyspark.ml.feature import VectorAssembler"
   ]
  },
  {
   "cell_type": "code",
   "execution_count": 8,
   "metadata": {
    "collapsed": false
   },
   "outputs": [
    {
     "data": {
      "application/vnd.microsoft.datawrangler.viewer.v0+json": {
       "columns": [
        {
         "name": "index",
         "rawType": "int64",
         "type": "integer"
        },
        {
         "name": "0",
         "rawType": "object",
         "type": "string"
        }
       ],
       "ref": "1d1593bb-8c87-4ff5-9ca7-f639b9c03cf3",
       "rows": [
        [
         "0",
         "School"
        ],
        [
         "1",
         "Private"
        ],
        [
         "2",
         "Apps"
        ],
        [
         "3",
         "Accept"
        ],
        [
         "4",
         "Enroll"
        ],
        [
         "5",
         "Top10perc"
        ],
        [
         "6",
         "Top25perc"
        ],
        [
         "7",
         "F_Undergrad"
        ],
        [
         "8",
         "P_Undergrad"
        ],
        [
         "9",
         "Outstate"
        ],
        [
         "10",
         "Room_Board"
        ],
        [
         "11",
         "Books"
        ],
        [
         "12",
         "Personal"
        ],
        [
         "13",
         "PhD"
        ],
        [
         "14",
         "Terminal"
        ],
        [
         "15",
         "S_F_Ratio"
        ],
        [
         "16",
         "perc_alumni"
        ],
        [
         "17",
         "Expend"
        ],
        [
         "18",
         "Grad_Rate"
        ]
       ],
       "shape": {
        "columns": 1,
        "rows": 19
       }
      },
      "text/plain": [
       "['School',\n",
       " 'Private',\n",
       " 'Apps',\n",
       " 'Accept',\n",
       " 'Enroll',\n",
       " 'Top10perc',\n",
       " 'Top25perc',\n",
       " 'F_Undergrad',\n",
       " 'P_Undergrad',\n",
       " 'Outstate',\n",
       " 'Room_Board',\n",
       " 'Books',\n",
       " 'Personal',\n",
       " 'PhD',\n",
       " 'Terminal',\n",
       " 'S_F_Ratio',\n",
       " 'perc_alumni',\n",
       " 'Expend',\n",
       " 'Grad_Rate']"
      ]
     },
     "execution_count": 8,
     "metadata": {},
     "output_type": "execute_result"
    }
   ],
   "source": [
    "data.columns"
   ]
  },
  {
   "cell_type": "code",
   "execution_count": 9,
   "metadata": {
    "collapsed": false
   },
   "outputs": [],
   "source": [
    "assembler = VectorAssembler(inputCols=['Apps', 'Accept', 'Enroll', 'Top10perc', 'Top25perc', 'F_Undergrad', 'P_Undergrad', 'Outstate', 'Room_Board', 'Books', 'Personal', 'PhD', 'Terminal', 'S_F_Ratio', 'perc_alumni', 'Expend', 'Grad_Rate'], outputCol=\"features\")"
   ]
  },
  {
   "cell_type": "code",
   "execution_count": 10,
   "metadata": {
    "collapsed": false
   },
   "outputs": [],
   "source": [
    "output = assembler.transform(data)"
   ]
  },
  {
   "cell_type": "markdown",
   "metadata": {},
   "source": [
    "### Variable Objetivo (Y): Private"
   ]
  },
  {
   "cell_type": "code",
   "execution_count": 11,
   "metadata": {
    "collapsed": true
   },
   "outputs": [],
   "source": [
    "from pyspark.ml.feature import StringIndexer"
   ]
  },
  {
   "cell_type": "code",
   "execution_count": 12,
   "metadata": {
    "collapsed": false
   },
   "outputs": [
    {
     "name": "stderr",
     "output_type": "stream",
     "text": [
      "                                                                                \r"
     ]
    }
   ],
   "source": [
    "indexer = StringIndexer(inputCol=\"Private\", outputCol=\"PrivateIndex\")\n",
    "output_fixed = indexer.fit(output).transform(output)"
   ]
  },
  {
   "cell_type": "markdown",
   "metadata": {},
   "source": [
    "### Conjunto de Entrenamiento"
   ]
  },
  {
   "cell_type": "code",
   "execution_count": 13,
   "metadata": {
    "collapsed": true
   },
   "outputs": [],
   "source": [
    "final_data = output_fixed.select(\"features\",'PrivateIndex')"
   ]
  },
  {
   "cell_type": "code",
   "execution_count": 14,
   "metadata": {
    "collapsed": true
   },
   "outputs": [],
   "source": [
    "train_data,test_data = final_data.randomSplit([0.7,0.3])"
   ]
  },
  {
   "cell_type": "markdown",
   "metadata": {},
   "source": [
    "## Modelos"
   ]
  },
  {
   "cell_type": "code",
   "execution_count": null,
   "metadata": {
    "collapsed": true
   },
   "outputs": [],
   "source": [
    "from pyspark.ml.classification import DecisionTreeClassifier, GBTClassifier,RandomForestClassifier\n",
    "from pyspark.ml import Pipeline"
   ]
  },
  {
   "cell_type": "markdown",
   "metadata": {},
   "source": [
    "### Árboles de decisión"
   ]
  },
  {
   "cell_type": "code",
   "execution_count": 17,
   "metadata": {},
   "outputs": [
    {
     "name": "stderr",
     "output_type": "stream",
     "text": [
      "                                                                                \r"
     ]
    }
   ],
   "source": [
    "model_1 = DecisionTreeClassifier(labelCol='PrivateIndex',featuresCol='features')\n",
    "model_1_train = model_1.fit(train_data)\n",
    "model_1_pred = model_1_train.transform(test_data)"
   ]
  },
  {
   "cell_type": "markdown",
   "metadata": {},
   "source": [
    "### Bosques aleatorios"
   ]
  },
  {
   "cell_type": "code",
   "execution_count": 18,
   "metadata": {},
   "outputs": [
    {
     "name": "stderr",
     "output_type": "stream",
     "text": [
      "                                                                                \r"
     ]
    }
   ],
   "source": [
    "model_2 = RandomForestClassifier(labelCol='PrivateIndex',featuresCol='features')\n",
    "model_2_train = model_2.fit(train_data)\n",
    "model_2_pred = model_2_train.transform(test_data)"
   ]
  },
  {
   "cell_type": "markdown",
   "metadata": {},
   "source": [
    "### Árboles de decisión Potenciados por gradientes"
   ]
  },
  {
   "cell_type": "code",
   "execution_count": 19,
   "metadata": {},
   "outputs": [],
   "source": [
    "model_3 = GBTClassifier(labelCol='PrivateIndex',featuresCol='features')\n",
    "model_3_train = model_3.fit(train_data)\n",
    "model_3_pred = model_3_train.transform(test_data)"
   ]
  },
  {
   "cell_type": "markdown",
   "metadata": {},
   "source": [
    "## Evaluación de Modelos"
   ]
  },
  {
   "cell_type": "code",
   "execution_count": 22,
   "metadata": {},
   "outputs": [],
   "source": [
    "from pyspark.ml.evaluation import MulticlassClassificationEvaluator"
   ]
  },
  {
   "cell_type": "markdown",
   "metadata": {},
   "source": [
    "### Accuracy"
   ]
  },
  {
   "cell_type": "code",
   "execution_count": 23,
   "metadata": {
    "collapsed": true
   },
   "outputs": [],
   "source": [
    "acc_evaluator = MulticlassClassificationEvaluator(labelCol=\"PrivateIndex\", predictionCol=\"prediction\", metricName=\"accuracy\")"
   ]
  },
  {
   "cell_type": "code",
   "execution_count": 24,
   "metadata": {
    "collapsed": false
   },
   "outputs": [
    {
     "name": "stderr",
     "output_type": "stream",
     "text": [
      "25/09/13 22:41:57 WARN BLAS: Failed to load implementation from: com.github.fommil.netlib.NativeSystemBLAS\n",
      "25/09/13 22:41:57 WARN BLAS: Failed to load implementation from: com.github.fommil.netlib.NativeRefBLAS\n"
     ]
    }
   ],
   "source": [
    "dtc_acc = acc_evaluator.evaluate(model_1_pred)\n",
    "rfc_acc = acc_evaluator.evaluate(model_2_pred)\n",
    "gbt_acc = acc_evaluator.evaluate(model_3_pred)"
   ]
  },
  {
   "cell_type": "code",
   "execution_count": 25,
   "metadata": {
    "collapsed": false
   },
   "outputs": [
    {
     "name": "stdout",
     "output_type": "stream",
     "text": [
      "--------------------------------------------------------------------------------\n",
      "A single decision tree had an accuracy of: 91.93%\n",
      "--------------------------------------------------------------------------------\n",
      "A random forest ensemble had an accuracy of: 95.07%\n",
      "--------------------------------------------------------------------------------\n",
      "A ensemble using GBT had an accuracy of: 92.83%\n"
     ]
    }
   ],
   "source": [
    "print('-'*80)\n",
    "print('A single decision tree had an accuracy of: {0:2.2f}%'.format(dtc_acc*100))\n",
    "print('-'*80)\n",
    "print('A random forest ensemble had an accuracy of: {0:2.2f}%'.format(rfc_acc*100))\n",
    "print('-'*80)\n",
    "print('A ensemble using GBT had an accuracy of: {0:2.2f}%'.format(gbt_acc*100))"
   ]
  },
  {
   "cell_type": "markdown",
   "metadata": {},
   "source": [
    "### f1"
   ]
  },
  {
   "cell_type": "code",
   "execution_count": 26,
   "metadata": {},
   "outputs": [],
   "source": [
    "f1_evaluator = MulticlassClassificationEvaluator(labelCol=\"PrivateIndex\", predictionCol=\"prediction\", metricName=\"f1\")"
   ]
  },
  {
   "cell_type": "code",
   "execution_count": 27,
   "metadata": {},
   "outputs": [],
   "source": [
    "dtc_f1 = f1_evaluator.evaluate(model_1_pred)\n",
    "rfc_f1 = f1_evaluator.evaluate(model_2_pred)\n",
    "gbt_f1 = f1_evaluator.evaluate(model_3_pred)"
   ]
  },
  {
   "cell_type": "code",
   "execution_count": 28,
   "metadata": {},
   "outputs": [
    {
     "name": "stdout",
     "output_type": "stream",
     "text": [
      "--------------------------------------------------------------------------------\n",
      "A single decision tree had an F1 score of: 91.98%\n",
      "--------------------------------------------------------------------------------\n",
      "A random forest ensemble had an F1 score of: 95.01%\n",
      "--------------------------------------------------------------------------------\n",
      "A ensemble using GBT had an F1 score of: 92.92%\n"
     ]
    }
   ],
   "source": [
    "print('-'*80)\n",
    "print('A single decision tree had an F1 score of: {0:2.2f}%'.format(dtc_f1*100))\n",
    "print('-'*80)\n",
    "print('A random forest ensemble had an F1 score of: {0:2.2f}%'.format(rfc_f1*100))\n",
    "print('-'*80)\n",
    "print('A ensemble using GBT had an F1 score of: {0:2.2f}%'.format(gbt_f1*100))"
   ]
  },
  {
   "cell_type": "markdown",
   "metadata": {},
   "source": [
    "### Matriz de Confusión"
   ]
  },
  {
   "cell_type": "code",
   "execution_count": 33,
   "metadata": {},
   "outputs": [
    {
     "name": "stderr",
     "output_type": "stream",
     "text": [
      "                                                                                \r"
     ]
    },
    {
     "name": "stdout",
     "output_type": "stream",
     "text": [
      "--------------------------------------------------------------------------------\n",
      "Confusion Matrix for Decision Tree Classifier\n",
      "--------------------------------------------------------------------------------\n"
     ]
    },
    {
     "name": "stderr",
     "output_type": "stream",
     "text": [
      "[Stage 274:==============================================>      (174 + 9) / 200]\r"
     ]
    },
    {
     "name": "stdout",
     "output_type": "stream",
     "text": [
      "+------------+---+---+\n",
      "|PrivateIndex|0.0|1.0|\n",
      "+------------+---+---+\n",
      "|         0.0|162| 10|\n",
      "|         1.0|  8| 43|\n",
      "+------------+---+---+\n",
      "\n"
     ]
    },
    {
     "name": "stderr",
     "output_type": "stream",
     "text": [
      "                                                                                \r"
     ]
    }
   ],
   "source": [
    "confusion_matrix = (\n",
    "    model_1_pred.groupBy(\"PrivateIndex\")\n",
    "    .pivot(\"prediction\")\n",
    "    .count()\n",
    "    .na.fill(0)\n",
    "    .orderBy(\"PrivateIndex\")\n",
    ")\n",
    "\n",
    "print('-'*80)\n",
    "print('Confusion Matrix for Decision Tree Classifier')\n",
    "print('-'*80)\n",
    "confusion_matrix.show()"
   ]
  },
  {
   "cell_type": "code",
   "execution_count": 34,
   "metadata": {},
   "outputs": [
    {
     "name": "stderr",
     "output_type": "stream",
     "text": [
      "                                                                                \r"
     ]
    },
    {
     "name": "stdout",
     "output_type": "stream",
     "text": [
      "--------------------------------------------------------------------------------\n",
      "Confusion Matrix for Random Forest Classifier\n",
      "--------------------------------------------------------------------------------\n"
     ]
    },
    {
     "name": "stderr",
     "output_type": "stream",
     "text": [
      "[Stage 280:========================================>            (151 + 8) / 200]\r"
     ]
    },
    {
     "name": "stdout",
     "output_type": "stream",
     "text": [
      "+------------+---+---+\n",
      "|PrivateIndex|0.0|1.0|\n",
      "+------------+---+---+\n",
      "|         0.0|168|  4|\n",
      "|         1.0|  7| 44|\n",
      "+------------+---+---+\n",
      "\n"
     ]
    },
    {
     "name": "stderr",
     "output_type": "stream",
     "text": [
      "                                                                                \r"
     ]
    }
   ],
   "source": [
    "confusion_matrix = (\n",
    "    model_2_pred.groupBy(\"PrivateIndex\")\n",
    "    .pivot(\"prediction\")\n",
    "    .count()\n",
    "    .na.fill(0)\n",
    "    .orderBy(\"PrivateIndex\")\n",
    ")\n",
    "\n",
    "print('-'*80)\n",
    "print('Confusion Matrix for Random Forest Classifier')\n",
    "print('-'*80)\n",
    "confusion_matrix.show()"
   ]
  },
  {
   "cell_type": "code",
   "execution_count": 35,
   "metadata": {},
   "outputs": [
    {
     "name": "stderr",
     "output_type": "stream",
     "text": [
      "                                                                                \r"
     ]
    },
    {
     "name": "stdout",
     "output_type": "stream",
     "text": [
      "--------------------------------------------------------------------------------\n",
      "Confusion Matrix for Gradient Boosted Tree Classifier\n",
      "--------------------------------------------------------------------------------\n"
     ]
    },
    {
     "name": "stderr",
     "output_type": "stream",
     "text": [
      "[Stage 286:==================================================>  (189 + 8) / 200]\r"
     ]
    },
    {
     "name": "stdout",
     "output_type": "stream",
     "text": [
      "+------------+---+---+\n",
      "|PrivateIndex|0.0|1.0|\n",
      "+------------+---+---+\n",
      "|         0.0|162| 10|\n",
      "|         1.0|  6| 45|\n",
      "+------------+---+---+\n",
      "\n"
     ]
    },
    {
     "name": "stderr",
     "output_type": "stream",
     "text": [
      "                                                                                \r"
     ]
    }
   ],
   "source": [
    "confusion_matrix = (\n",
    "    model_3_pred.groupBy(\"PrivateIndex\")\n",
    "    .pivot(\"prediction\")\n",
    "    .count()\n",
    "    .na.fill(0)\n",
    "    .orderBy(\"PrivateIndex\")\n",
    ")\n",
    "\n",
    "print('-'*80)\n",
    "print('Confusion Matrix for Gradient Boosted Tree Classifier')\n",
    "print('-'*80)\n",
    "confusion_matrix.show()"
   ]
  }
 ],
 "metadata": {
  "anaconda-cloud": {},
  "kernelspec": {
   "display_name": "data",
   "language": "python",
   "name": "python3"
  },
  "language_info": {
   "codemirror_mode": {
    "name": "ipython",
    "version": 3
   },
   "file_extension": ".py",
   "mimetype": "text/x-python",
   "name": "python",
   "nbconvert_exporter": "python",
   "pygments_lexer": "ipython3",
   "version": "3.13.5"
  }
 },
 "nbformat": 4,
 "nbformat_minor": 0
}
